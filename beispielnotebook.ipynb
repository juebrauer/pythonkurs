{
 "cells": [
  {
   "cell_type": "markdown",
   "id": "78e02deb",
   "metadata": {},
   "source": [
    "# Python-Grundlagen: Variablen, Operatoren und Strings\n",
    "\n",
    "Dies ist nur ein kurzes Beispielnotebook zur Veranschaulichung der Idee:\n",
    "\n",
    "ein zentrales Pythonkurs-Inhaltsverzeichnis-Notebook, das auf die Themennotebooks verlinkt/verweist.\n",
    "\n",
    "Die erstellten Themennotebooks wären hinsichtlich Erläuterungen und Übungsaufgaben viel ausführlicher."
   ]
  },
  {
   "cell_type": "markdown",
   "id": "6c3f2e30",
   "metadata": {},
   "source": [
    "## Variablen"
   ]
  },
  {
   "cell_type": "markdown",
   "id": "736ae593",
   "metadata": {},
   "source": [
    "In Python wird eine Variable erstellt, sobald Sie ihr einen Wert zuweisen."
   ]
  },
  {
   "cell_type": "code",
   "execution_count": 1,
   "id": "4bc69873",
   "metadata": {},
   "outputs": [
    {
     "name": "stdout",
     "output_type": "stream",
     "text": [
      "5\n",
      "Hallo Welt\n"
     ]
    }
   ],
   "source": [
    "x = 5\n",
    "y = 'Hallo Welt'\n",
    "\n",
    "print(x)\n",
    "print(y)"
   ]
  },
  {
   "cell_type": "markdown",
   "id": "7e91696d",
   "metadata": {},
   "source": [
    "## Operatoren"
   ]
  },
  {
   "cell_type": "markdown",
   "id": "0b338bc4",
   "metadata": {},
   "source": [
    "Python bietet eine Vielzahl von Operatoren, die Sie verwenden können."
   ]
  },
  {
   "cell_type": "markdown",
   "id": "14db03d2-2fb4-427d-82d4-ff69e6b937ec",
   "metadata": {},
   "source": [
    "Fließkommazahl-Division:"
   ]
  },
  {
   "cell_type": "code",
   "execution_count": 2,
   "id": "3fa5b4c4-a7c3-4703-86e5-3083f21b8f87",
   "metadata": {},
   "outputs": [
    {
     "name": "stdout",
     "output_type": "stream",
     "text": [
      "2.5\n"
     ]
    }
   ],
   "source": [
    "z = 5 / 2\n",
    "print(z)"
   ]
  },
  {
   "cell_type": "markdown",
   "id": "f844079c-e72d-49e4-8ff5-b4edc3775e7c",
   "metadata": {},
   "source": [
    "Ganzzahl-Division:"
   ]
  },
  {
   "cell_type": "code",
   "execution_count": 3,
   "id": "d0a915c9-3f1f-45bc-924e-f33fc458e9bc",
   "metadata": {},
   "outputs": [
    {
     "name": "stdout",
     "output_type": "stream",
     "text": [
      "2\n"
     ]
    }
   ],
   "source": [
    "z = 5 // 2\n",
    "print(z)"
   ]
  },
  {
   "cell_type": "markdown",
   "id": "aa930734-1bc2-4264-80da-907cd6bf6014",
   "metadata": {},
   "source": [
    "Potenzoperator:"
   ]
  },
  {
   "cell_type": "code",
   "execution_count": 4,
   "id": "718b7d6f-26dc-4d3d-81f8-c190a8522294",
   "metadata": {},
   "outputs": [
    {
     "data": {
      "text/plain": [
       "1000"
      ]
     },
     "execution_count": 4,
     "metadata": {},
     "output_type": "execute_result"
    }
   ],
   "source": [
    "10**3"
   ]
  },
  {
   "cell_type": "markdown",
   "id": "0794eb54",
   "metadata": {},
   "source": [
    "## Strings"
   ]
  },
  {
   "cell_type": "markdown",
   "id": "0b82154c",
   "metadata": {},
   "source": [
    "Ein String in Python ist eine Sequenz von Zeichen. Strings in Python sind entweder in einfache (') oder doppelte (\") Anführungszeichen eingeschlossen."
   ]
  },
  {
   "cell_type": "code",
   "execution_count": 5,
   "id": "bf3872cc",
   "metadata": {},
   "outputs": [
    {
     "name": "stdout",
     "output_type": "stream",
     "text": [
      "Python ist toll!\n"
     ]
    }
   ],
   "source": [
    "text = 'Python ist toll!'\n",
    "\n",
    "print(text)"
   ]
  },
  {
   "cell_type": "markdown",
   "id": "45b4e1fc-a867-40e1-896c-e316aaf4ab7b",
   "metadata": {},
   "source": [
    "Wieso kann man in Python Strings mit ' und \" definieren?\n",
    "\n",
    "Nehmen wir hierzu das Beispiel der indirekten Rede:"
   ]
  },
  {
   "cell_type": "code",
   "execution_count": 6,
   "id": "27640307-9a89-4ed6-80a6-1f1e7ccf84ab",
   "metadata": {},
   "outputs": [
    {
     "name": "stdout",
     "output_type": "stream",
     "text": [
      "Er sagte 'Hallo'\n"
     ]
    }
   ],
   "source": [
    "text = \"Er sagte 'Hallo'\"\n",
    "print(text)"
   ]
  },
  {
   "cell_type": "code",
   "execution_count": 7,
   "id": "2a70f130-e8a2-4c32-979d-94bcc8c7c504",
   "metadata": {},
   "outputs": [
    {
     "name": "stdout",
     "output_type": "stream",
     "text": [
      "Er sagte \"Hallo\"\n"
     ]
    }
   ],
   "source": [
    "text = 'Er sagte \"Hallo\"'\n",
    "print(text)"
   ]
  },
  {
   "cell_type": "markdown",
   "id": "e2eb69b0-568c-43d1-b3bb-7c8a3bab277c",
   "metadata": {},
   "source": [
    "Von einem String kann man sich ein Stück abschneiden (\"slicen\"):"
   ]
  },
  {
   "cell_type": "code",
   "execution_count": 8,
   "id": "1bfca297-e6fc-4afb-9a52-9adb2ca220d9",
   "metadata": {},
   "outputs": [
    {
     "name": "stdout",
     "output_type": "stream",
     "text": [
      "Er \n"
     ]
    }
   ],
   "source": [
    "print(text[:3])"
   ]
  },
  {
   "cell_type": "code",
   "execution_count": 9,
   "id": "a6a1f3b9-5e5d-4cfc-91f9-46a5389ea878",
   "metadata": {},
   "outputs": [
    {
     "name": "stdout",
     "output_type": "stream",
     "text": [
      "\"Hallo\"\n"
     ]
    }
   ],
   "source": [
    "print(text[-7:])"
   ]
  },
  {
   "cell_type": "markdown",
   "id": "ff6c8f75-8c43-49b1-bde4-683417db8f63",
   "metadata": {},
   "source": [
    "Umwandlung in Groß- und Kleinbuchstaben:"
   ]
  },
  {
   "cell_type": "code",
   "execution_count": 10,
   "id": "570fd33c-bba0-49db-8d61-fe358ab9ae20",
   "metadata": {},
   "outputs": [
    {
     "name": "stdout",
     "output_type": "stream",
     "text": [
      "er sagte \"hallo\"\n"
     ]
    }
   ],
   "source": [
    "print(text.lower())"
   ]
  },
  {
   "cell_type": "code",
   "execution_count": 11,
   "id": "3a1309e7-6086-493c-862e-5baae8fc0b42",
   "metadata": {},
   "outputs": [
    {
     "name": "stdout",
     "output_type": "stream",
     "text": [
      "ER SAGTE \"HALLO\"\n"
     ]
    }
   ],
   "source": [
    "print(text.upper())"
   ]
  },
  {
   "cell_type": "code",
   "execution_count": 12,
   "id": "de405b1b-59de-4e10-a852-ced70e3f4537",
   "metadata": {},
   "outputs": [
    {
     "name": "stdout",
     "output_type": "stream",
     "text": [
      "Herr max mustermann\n"
     ]
    }
   ],
   "source": [
    "print(\"heRR maX mUsteRMann\".lower().capitalize())"
   ]
  },
  {
   "cell_type": "markdown",
   "id": "5c1e7d83",
   "metadata": {},
   "source": [
    "## Übungsaufgaben"
   ]
  },
  {
   "cell_type": "markdown",
   "id": "f8a79bd3",
   "metadata": {},
   "source": [
    "\n",
    "1. Erstellen Sie zwei Variablen und weisen Sie ihnen beliebige Werte zu. Addieren Sie die beiden Variablen und geben Sie das Ergebnis aus.\n",
    "2. Erstellen Sie einen String und geben Sie den dritten Buchstaben des Strings aus.\n",
    "3. Verwenden Sie den `*` Operator, um einen String 5 Mal zu wiederholen.\n",
    "4. Erstellen Sie zwei Strings und verknüpfen Sie sie zu einem einzigen String.\n",
    "5. Verwenden Sie den `in` Operator, um zu überprüfen, ob ein bestimmtes Wort in einem String vorhanden ist.\n"
   ]
  },
  {
   "cell_type": "markdown",
   "id": "bb6909dd",
   "metadata": {},
   "source": [
    "## Lösungen zu den Übungsaufgaben"
   ]
  },
  {
   "cell_type": "code",
   "execution_count": 13,
   "id": "c68ebcaa",
   "metadata": {},
   "outputs": [
    {
     "name": "stdout",
     "output_type": "stream",
     "text": [
      "30\n"
     ]
    }
   ],
   "source": [
    "\n",
    "# Lösung zu Aufgabe 1\n",
    "a = 10\n",
    "b = 20\n",
    "result = a + b\n",
    "print(result)\n"
   ]
  },
  {
   "cell_type": "code",
   "execution_count": 14,
   "id": "eab2faf9",
   "metadata": {},
   "outputs": [
    {
     "name": "stdout",
     "output_type": "stream",
     "text": [
      "t\n"
     ]
    }
   ],
   "source": [
    "\n",
    "# Lösung zu Aufgabe 2\n",
    "string = \"Python\"\n",
    "third_char = string[2]\n",
    "print(third_char)\n"
   ]
  },
  {
   "cell_type": "code",
   "execution_count": 15,
   "id": "6a8d0fec",
   "metadata": {},
   "outputs": [
    {
     "name": "stdout",
     "output_type": "stream",
     "text": [
      "HalloHalloHalloHalloHallo\n"
     ]
    }
   ],
   "source": [
    "\n",
    "# Lösung zu Aufgabe 3\n",
    "repeated_string = \"Hallo\" * 5\n",
    "print(repeated_string)\n"
   ]
  },
  {
   "cell_type": "code",
   "execution_count": 16,
   "id": "975cfa18",
   "metadata": {},
   "outputs": [
    {
     "name": "stdout",
     "output_type": "stream",
     "text": [
      "Python ist toll!\n"
     ]
    }
   ],
   "source": [
    "\n",
    "# Lösung zu Aufgabe 4\n",
    "string1 = \"Python \"\n",
    "string2 = \"ist toll!\"\n",
    "combined_string = string1 + string2\n",
    "print(combined_string)\n"
   ]
  },
  {
   "cell_type": "code",
   "execution_count": 17,
   "id": "378cc302",
   "metadata": {},
   "outputs": [
    {
     "name": "stdout",
     "output_type": "stream",
     "text": [
      "True\n"
     ]
    }
   ],
   "source": [
    "\n",
    "# Lösung zu Aufgabe 5\n",
    "sentence = \"Python ist eine wunderbare Sprache.\"\n",
    "word = \"wunderbare\"\n",
    "check = word in sentence\n",
    "print(check)\n"
   ]
  }
 ],
 "metadata": {
  "kernelspec": {
   "display_name": "Python 3 (ipykernel)",
   "language": "python",
   "name": "python3"
  },
  "language_info": {
   "codemirror_mode": {
    "name": "ipython",
    "version": 3
   },
   "file_extension": ".py",
   "mimetype": "text/x-python",
   "name": "python",
   "nbconvert_exporter": "python",
   "pygments_lexer": "ipython3",
   "version": "3.11.4"
  }
 },
 "nbformat": 4,
 "nbformat_minor": 5
}
